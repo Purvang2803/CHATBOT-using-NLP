{
 "cells": [
  {
   "cell_type": "code",
   "execution_count": 36,
   "metadata": {
    "colab": {
     "base_uri": "https://localhost:8080/"
    },
    "id": "qWj_aKgiNYT2",
    "outputId": "d6ad7c97-f48d-47fb-f8b4-4586e0163c4e"
   },
   "outputs": [
    {
     "name": "stdout",
     "output_type": "stream",
     "text": [
      "Requirement already satisfied: pandas in c:\\users\\dell8\\appdata\\local\\programs\\python\\python313\\lib\\site-packages (2.2.3)\n",
      "Requirement already satisfied: scikit-learn in c:\\users\\dell8\\appdata\\local\\programs\\python\\python313\\lib\\site-packages (1.6.0)\n",
      "Requirement already satisfied: nltk in c:\\users\\dell8\\appdata\\local\\programs\\python\\python313\\lib\\site-packages (3.9.1)\n",
      "Requirement already satisfied: numpy>=1.26.0 in c:\\users\\dell8\\appdata\\local\\programs\\python\\python313\\lib\\site-packages (from pandas) (2.1.3)\n",
      "Requirement already satisfied: python-dateutil>=2.8.2 in c:\\users\\dell8\\appdata\\local\\programs\\python\\python313\\lib\\site-packages (from pandas) (2.9.0.post0)\n",
      "Requirement already satisfied: pytz>=2020.1 in c:\\users\\dell8\\appdata\\local\\programs\\python\\python313\\lib\\site-packages (from pandas) (2024.2)\n",
      "Requirement already satisfied: tzdata>=2022.7 in c:\\users\\dell8\\appdata\\local\\programs\\python\\python313\\lib\\site-packages (from pandas) (2024.2)\n",
      "Requirement already satisfied: scipy>=1.6.0 in c:\\users\\dell8\\appdata\\local\\programs\\python\\python313\\lib\\site-packages (from scikit-learn) (1.14.1)\n",
      "Requirement already satisfied: joblib>=1.2.0 in c:\\users\\dell8\\appdata\\local\\programs\\python\\python313\\lib\\site-packages (from scikit-learn) (1.4.2)\n",
      "Requirement already satisfied: threadpoolctl>=3.1.0 in c:\\users\\dell8\\appdata\\local\\programs\\python\\python313\\lib\\site-packages (from scikit-learn) (3.5.0)\n",
      "Requirement already satisfied: click in c:\\users\\dell8\\appdata\\local\\programs\\python\\python313\\lib\\site-packages (from nltk) (8.1.8)\n",
      "Requirement already satisfied: regex>=2021.8.3 in c:\\users\\dell8\\appdata\\local\\programs\\python\\python313\\lib\\site-packages (from nltk) (2024.11.6)\n",
      "Requirement already satisfied: tqdm in c:\\users\\dell8\\appdata\\local\\programs\\python\\python313\\lib\\site-packages (from nltk) (4.67.1)\n",
      "Requirement already satisfied: six>=1.5 in c:\\users\\dell8\\appdata\\local\\programs\\python\\python313\\lib\\site-packages (from python-dateutil>=2.8.2->pandas) (1.16.0)\n",
      "Requirement already satisfied: colorama in c:\\users\\dell8\\appdata\\local\\programs\\python\\python313\\lib\\site-packages (from click->nltk) (0.4.6)\n"
     ]
    }
   ],
   "source": [
    "!pip install pandas scikit-learn nltk"
   ]
  },
  {
   "cell_type": "code",
   "execution_count": 37,
   "metadata": {
    "id": "Uem71XhwNtdE"
   },
   "outputs": [],
   "source": [
    "import pandas as pd\n",
    "from sklearn.feature_extraction.text import TfidfVectorizer\n",
    "from sklearn.metrics.pairwise import cosine_similarity\n",
    "import nltk\n",
    "from nltk.corpus import stopwords\n",
    "from nltk.tokenize import word_tokenize\n",
    "import string"
   ]
  },
  {
   "cell_type": "code",
   "execution_count": 38,
   "metadata": {
    "colab": {
     "base_uri": "https://localhost:8080/"
    },
    "id": "gP14RN-EN_h0",
    "outputId": "49386975-33a7-4ad4-dd45-f2f735100fe9"
   },
   "outputs": [
    {
     "name": "stderr",
     "output_type": "stream",
     "text": [
      "[nltk_data] Downloading package punkt to\n",
      "[nltk_data]     C:\\Users\\DELL8\\AppData\\Roaming\\nltk_data...\n",
      "[nltk_data]   Package punkt is already up-to-date!\n",
      "[nltk_data] Downloading package stopwords to\n",
      "[nltk_data]     C:\\Users\\DELL8\\AppData\\Roaming\\nltk_data...\n",
      "[nltk_data]   Package stopwords is already up-to-date!\n"
     ]
    },
    {
     "data": {
      "text/plain": [
       "True"
      ]
     },
     "execution_count": 38,
     "metadata": {},
     "output_type": "execute_result"
    }
   ],
   "source": [
    "# Download NLTK data\n",
    "nltk.download('punkt')\n",
    "nltk.download('stopwords')"
   ]
  },
  {
   "cell_type": "code",
   "execution_count": 39,
   "metadata": {
    "id": "fTYXlVhnOFco"
   },
   "outputs": [],
   "source": [
    "df = pd.read_excel(\"D:\\DELL8\\Documents\\pharmacy_questions.xlsx\")"
   ]
  },
  {
   "cell_type": "code",
   "execution_count": 40,
   "metadata": {
    "colab": {
     "base_uri": "https://localhost:8080/",
     "height": 206
    },
    "id": "YfbzUaVEOjIW",
    "outputId": "ed1aabb6-1f76-48e0-c5ba-c742be0d3958"
   },
   "outputs": [
    {
     "data": {
      "text/html": [
       "<div>\n",
       "<style scoped>\n",
       "    .dataframe tbody tr th:only-of-type {\n",
       "        vertical-align: middle;\n",
       "    }\n",
       "\n",
       "    .dataframe tbody tr th {\n",
       "        vertical-align: top;\n",
       "    }\n",
       "\n",
       "    .dataframe thead th {\n",
       "        text-align: right;\n",
       "    }\n",
       "</style>\n",
       "<table border=\"1\" class=\"dataframe\">\n",
       "  <thead>\n",
       "    <tr style=\"text-align: right;\">\n",
       "      <th></th>\n",
       "      <th>Questions</th>\n",
       "      <th>Answers</th>\n",
       "    </tr>\n",
       "  </thead>\n",
       "  <tbody>\n",
       "    <tr>\n",
       "      <th>0</th>\n",
       "      <td>What are your pharmacy hours?</td>\n",
       "      <td>Our pharmacy hours are 9 AM to 9 PM from Mond...</td>\n",
       "    </tr>\n",
       "    <tr>\n",
       "      <th>1</th>\n",
       "      <td>Do you offer delivery services?</td>\n",
       "      <td>Yes, we offer delivery services. You can plac...</td>\n",
       "    </tr>\n",
       "    <tr>\n",
       "      <th>2</th>\n",
       "      <td>Can I refill my prescription online?</td>\n",
       "      <td>Yes, you can refill your prescription online ...</td>\n",
       "    </tr>\n",
       "    <tr>\n",
       "      <th>3</th>\n",
       "      <td>What insurance plans do you accept?</td>\n",
       "      <td>We accept a wide range of insurance plans. Pl...</td>\n",
       "    </tr>\n",
       "    <tr>\n",
       "      <th>4</th>\n",
       "      <td>Do you offer flu shots?</td>\n",
       "      <td>Yes, we offer flu shots. You can walk in or s...</td>\n",
       "    </tr>\n",
       "  </tbody>\n",
       "</table>\n",
       "</div>"
      ],
      "text/plain": [
       "                               Questions  \\\n",
       "0          What are your pharmacy hours?   \n",
       "1        Do you offer delivery services?   \n",
       "2   Can I refill my prescription online?   \n",
       "3    What insurance plans do you accept?   \n",
       "4                Do you offer flu shots?   \n",
       "\n",
       "                                             Answers  \n",
       "0   Our pharmacy hours are 9 AM to 9 PM from Mond...  \n",
       "1   Yes, we offer delivery services. You can plac...  \n",
       "2   Yes, you can refill your prescription online ...  \n",
       "3   We accept a wide range of insurance plans. Pl...  \n",
       "4   Yes, we offer flu shots. You can walk in or s...  "
      ]
     },
     "execution_count": 40,
     "metadata": {},
     "output_type": "execute_result"
    }
   ],
   "source": [
    "df.head()"
   ]
  },
  {
   "cell_type": "code",
   "execution_count": 41,
   "metadata": {
    "id": "nMrPWz0GOmoJ"
   },
   "outputs": [],
   "source": [
    "df_required_questions= df['Questions']\n",
    "df_required_answers=df['Answers']"
   ]
  },
  {
   "cell_type": "code",
   "execution_count": 42,
   "metadata": {
    "colab": {
     "base_uri": "https://localhost:8080/"
    },
    "id": "STyhxSyqQYFP",
    "outputId": "0e90bd0d-f64e-4f4d-b1aa-0fcd4b2cf12b"
   },
   "outputs": [
    {
     "data": {
      "text/plain": [
       "0      Our pharmacy hours are 9 AM to 9 PM from Mond...\n",
       "1      Yes, we offer delivery services. You can plac...\n",
       "2      Yes, you can refill your prescription online ...\n",
       "3      We accept a wide range of insurance plans. Pl...\n",
       "4      Yes, we offer flu shots. You can walk in or s...\n",
       "                            ...                        \n",
       "95     Yes, you can get a prescription for acne trea...\n",
       "96     Yes, we offer heart health products. Ask our ...\n",
       "97     If your medication is recalled, we will notif...\n",
       "98     Yes, you can get a prescription for anti-infl...\n",
       "99     Yes, we offer wound care products. Ask our ph...\n",
       "Name: Answers, Length: 100, dtype: object"
      ]
     },
     "execution_count": 42,
     "metadata": {},
     "output_type": "execute_result"
    }
   ],
   "source": [
    "df_required_answers"
   ]
  },
  {
   "cell_type": "code",
   "execution_count": 43,
   "metadata": {
    "id": "bTYy6W1BQkrQ"
   },
   "outputs": [],
   "source": [
    "# Filter empty strings directly\n",
    "required_questions = []\n",
    "\n",
    "for question in df_required_questions:\n",
    "    if question.strip():  # Skip empty or whitespace-only entries\n",
    "        data = question.split('.', 1)\n",
    "        if len(data) > 1 and data[1].strip():  # Only keep meaningful content\n",
    "            required_questions.append(data[1].strip())\n",
    "        else:\n",
    "            required_questions.append(question.strip())  \n",
    "\n",
    "# Same logic for answers\n",
    "required_answers = []\n",
    "\n",
    "for answer in df_required_answers:\n",
    "    if answer.strip():  # Skip empty or whitespace-only entries\n",
    "        data = answer.split('.', 1)\n",
    "        if len(data) > 1 and data[1].strip():\n",
    "            required_answers.append(data[1].strip())\n",
    "        else:\n",
    "            required_answers.append(answer.strip())\n"
   ]
  },
  {
   "cell_type": "code",
   "execution_count": 44,
   "metadata": {
    "colab": {
     "base_uri": "https://localhost:8080/"
    },
    "id": "-eC5IoZ1Rzsu",
    "outputId": "8398d86d-af62-42d0-93de-8936c75ed9be"
   },
   "outputs": [
    {
     "data": {
      "text/plain": [
       "['What are your pharmacy hours?',\n",
       " 'Do you offer delivery services?',\n",
       " 'Can I refill my prescription online?',\n",
       " 'What insurance plans do you accept?',\n",
       " 'Do you offer flu shots?',\n",
       " 'What is your return policy on medications?',\n",
       " 'How can I transfer my prescription to your pharmacy?',\n",
       " 'Do you have a loyalty program?',\n",
       " 'Can I speak to a pharmacist?',\n",
       " 'What COVID-19 precautions are you taking?',\n",
       " 'How can I check if my medication is in stock?',\n",
       " 'Do you offer a consultation service?',\n",
       " 'Can I get my blood pressure checked at your pharmacy?',\n",
       " 'Do you have a drive-thru service?',\n",
       " 'What is the process for getting a new prescription filled?',\n",
       " 'Can I get a copy of my prescription history?',\n",
       " 'Do you offer discounts for senior citizens?',\n",
       " 'How do I set up an online account for prescription refills?',\n",
       " 'Do you provide medication synchronization services?',\n",
       " 'What are your holiday hours?',\n",
       " 'Can I order over-the-counter medications online?',\n",
       " 'Do you offer travel vaccinations?',\n",
       " 'How can I contact the pharmacy directly?',\n",
       " 'Are there any special programs for diabetes management?',\n",
       " 'Do you offer a medication disposal service?',\n",
       " 'Can I get a COVID-19 vaccine at your pharmacy?',\n",
       " 'How do I transfer my prescription from another pharmacy?',\n",
       " 'Do you offer pet medications?',\n",
       " 'Can I schedule a health screening at your pharmacy?',\n",
       " 'What forms of payment do you accept?',\n",
       " 'Do you have a mobile app for managing prescriptions?',\n",
       " 'Can I get a prescription for medical equipment?',\n",
       " 'Do you offer hormone replacement therapy?',\n",
       " 'How do I renew my prescription?',\n",
       " 'Do you have a drive-up window for prescription pick-up?',\n",
       " 'Can I get a cholesterol test at your pharmacy?',\n",
       " 'Do you offer allergy medications?',\n",
       " 'What is your policy on expired medications?',\n",
       " 'Can I get a prescription for vitamins and supplements?',\n",
       " 'Do you offer mental health medications?',\n",
       " 'Can I get my medication flavor customized?',\n",
       " 'Do you offer prescription compounding services?',\n",
       " 'How do I cancel a prescription order?',\n",
       " 'Do you have a text alert service for prescription pick-ups?',\n",
       " 'Can I get a shingles vaccine at your pharmacy?',\n",
       " 'Do you provide home healthcare products?',\n",
       " 'What should I do if I miss a dose of my medication?',\n",
       " 'Can I get a prescription for smoking cessation products?',\n",
       " 'Do you offer weight management products?',\n",
       " 'How do I update my insurance information with your pharmacy?',\n",
       " 'Do you offer ear and eye care products?',\n",
       " 'Can I get an EpiPen at your pharmacy?',\n",
       " 'Do you offer pain management medications?',\n",
       " 'How do I set up automatic prescription refills?',\n",
       " 'Can I get a prescription for diabetic supplies?',\n",
       " 'Do you offer prenatal vitamins?',\n",
       " 'What is your policy on controlled substances?',\n",
       " 'Can I get a vaccine for pneumonia at your pharmacy?',\n",
       " 'Do you offer home delivery for over-the-counter products?',\n",
       " 'How do I know if my prescription is ready for pick-up?',\n",
       " 'Do you offer medication for gastrointestinal issues?',\n",
       " 'Can I get a prescription for sleep aids?',\n",
       " 'Do you offer a pharmacy newsletter?',\n",
       " 'How do I change my preferred pharmacy location?',\n",
       " 'Do you offer vitamins for children?',\n",
       " 'Can I get a hepatitis vaccine at your pharmacy?',\n",
       " 'Do you offer senior citizen wellness programs?',\n",
       " 'How do I dispose of unused medications safely?',\n",
       " 'Can I get an asthma inhaler at your pharmacy?',\n",
       " 'Do you offer first aid supplies?',\n",
       " 'What should I do if I experience side effects from my medication?',\n",
       " 'Can I get a tetanus shot at your pharmacy?',\n",
       " 'Do you offer hair care products?',\n",
       " 'How do I transfer my prescriptions to a different pharmacy?',\n",
       " 'Can I get a prescription for fertility treatments?',\n",
       " 'Do you offer services for managing high blood pressure?',\n",
       " 'How do I track my prescription order?',\n",
       " 'Can I get a prescription for antiviral medications?',\n",
       " 'Do you offer oral health products?',\n",
       " 'How do I request a prescription refill?',\n",
       " 'Can I get an immunization record from your pharmacy?',\n",
       " 'Do you offer bone health supplements?',\n",
       " 'How do I set up prescription reminders?',\n",
       " 'Can I get a prescription for anti-anxiety medications?',\n",
       " 'Do you offer skincare products?',\n",
       " 'What is your policy on out-of-stock medications?',\n",
       " 'Can I get a prescription for antifungal medications?',\n",
       " 'Do you offer products for cold and flu relief?',\n",
       " 'How do I apply for a pharmacy job?',\n",
       " 'Can I get a blood glucose monitor at your pharmacy?',\n",
       " 'Do you offer pediatric medications?',\n",
       " 'How do I manage my prescription online?',\n",
       " 'Can I get a prescription for antihistamines?',\n",
       " 'Do you offer dietary supplements?',\n",
       " 'How do I contact your customer service?',\n",
       " 'Can I get a prescription for acne treatment?',\n",
       " 'Do you offer heart health products?',\n",
       " 'What should I do if my medication is recalled?',\n",
       " 'Can I get a prescription for anti-inflammatory medications?',\n",
       " 'Do you offer wound care products?']"
      ]
     },
     "execution_count": 44,
     "metadata": {},
     "output_type": "execute_result"
    }
   ],
   "source": [
    "required_questions\n"
   ]
  },
  {
   "cell_type": "code",
   "execution_count": 45,
   "metadata": {
    "colab": {
     "base_uri": "https://localhost:8080/"
    },
    "id": "QZY6rQhfR1U6",
    "outputId": "ecf968be-ef60-42f5-b7cf-32f3bbe3f42e"
   },
   "outputs": [
    {
     "data": {
      "text/plain": [
       "['Our pharmacy hours are 9 AM to 9 PM from Monday to Saturday, and 10 AM to 6 PM on Sunday.',\n",
       " 'You can place an order online or call us.',\n",
       " 'Yes, you can refill your prescription online through our website.',\n",
       " 'Please check our website or call us for more details.',\n",
       " 'You can walk in or schedule an appointment.',\n",
       " 'Our return policy on medications is that they can be returned within 14 days if unopened and in original condition.',\n",
       " 'To transfer your prescription, please bring your prescription bottle or call us with the details.',\n",
       " 'Sign up in-store or online to start earning rewards.',\n",
       " 'Just call or visit our store.',\n",
       " 'We are following all recommended COVID-19 precautions, including mask-wearing, social distancing, and regular sanitization.',\n",
       " 'You can check if your medication is in stock by calling us or checking our website.',\n",
       " 'You can schedule an appointment online or in-store.',\n",
       " 'Yes, you can get your blood pressure checked at our pharmacy.',\n",
       " 'Yes, we have a drive-thru service for your convenience.',\n",
       " 'Bring your prescription to the pharmacy or have your doctor send it electronically.',\n",
       " 'You can request a copy of your prescription history at the pharmacy counter.',\n",
       " 'Please ask at the counter for details.',\n",
       " 'Visit our website and follow the instructions to set up an online account for prescription refills.',\n",
       " 'Contact us for more information.',\n",
       " 'Please check our website or call us for holiday-specific hours.',\n",
       " 'Yes, you can order over-the-counter medications online through our website.',\n",
       " 'Please schedule an appointment.',\n",
       " 'Check our website for details.',\n",
       " 'Contact us for more information.',\n",
       " 'Bring your unused medications to the pharmacy.',\n",
       " 'Walk-ins are welcome or schedule an appointment.',\n",
       " 'To transfer your prescription from another pharmacy, bring in your prescription bottle or contact us with the details.',\n",
       " 'Ask our pharmacist for more information.',\n",
       " 'Yes, you can schedule a health screening at our pharmacy.',\n",
       " 'We accept cash, credit cards, and most insurance plans.',\n",
       " 'Download it from the App Store or Google Play.',\n",
       " 'Yes, you can get a prescription for medical equipment at our pharmacy.',\n",
       " 'Speak to our pharmacist for more details.',\n",
       " 'To renew your prescription, contact your doctor or request a renewal through our website.',\n",
       " 'Yes, we have a drive-up window for prescription pick-up.',\n",
       " 'Schedule an appointment online.',\n",
       " 'Ask our pharmacist for recommendations.',\n",
       " 'We can help you dispose of them safely.',\n",
       " 'Yes, you can get a prescription for vitamins and supplements if recommended by your doctor.',\n",
       " 'Speak to our pharmacist for more information.',\n",
       " 'Ask our pharmacist for details.',\n",
       " 'Contact us for more information.',\n",
       " 'To cancel a prescription order, please call the pharmacy directly.',\n",
       " 'Sign up in-store or online.',\n",
       " 'Schedule an appointment.',\n",
       " 'Ask our pharmacist for more information.',\n",
       " 'If you miss a dose of your medication, follow the instructions provided by your doctor or pharmacist.',\n",
       " 'Speak to our pharmacist for recommendations.',\n",
       " 'Ask our pharmacist for more details.',\n",
       " 'To update your insurance information, visit our pharmacy or call us.',\n",
       " 'Yes, we offer a range of ear and eye care products.',\n",
       " 'Speak to our pharmacist for more details.',\n",
       " 'Ask our pharmacist for recommendations.',\n",
       " 'To set up automatic prescription refills, visit our website or speak to our pharmacist.',\n",
       " 'Ask our pharmacist for more information.',\n",
       " 'Ask our pharmacist for recommendations.',\n",
       " 'Our policy on controlled substances is to follow all legal and regulatory guidelines.',\n",
       " 'Schedule an appointment.',\n",
       " 'Order online or call us.',\n",
       " 'To check if your prescription is ready for pick-up, sign up for our text alert service or call us.',\n",
       " 'Ask our pharmacist for recommendations.',\n",
       " 'Speak to our pharmacist for more details.',\n",
       " 'Sign up online or in-store.',\n",
       " 'To change your preferred pharmacy location, update your profile online or contact us.',\n",
       " 'Ask our pharmacist for recommendations.',\n",
       " 'Schedule an appointment.',\n",
       " 'Contact us for more information.',\n",
       " 'To dispose of unused medications safely, bring them to our pharmacy for disposal.',\n",
       " 'Speak to our pharmacist for more details.',\n",
       " 'Ask our pharmacist for recommendations.',\n",
       " 'If you experience side effects from your medication, contact your doctor or pharmacist immediately.',\n",
       " 'Schedule an appointment.',\n",
       " 'Ask our pharmacist for recommendations.',\n",
       " 'To transfer your prescriptions to a different pharmacy, contact the new pharmacy and they will handle the transfer.',\n",
       " 'Speak to our pharmacist for more information.',\n",
       " 'Ask our pharmacist for more details.',\n",
       " 'To track your prescription order, log in to your account on our website or call us.',\n",
       " 'Ask our pharmacist for more information.',\n",
       " 'Ask our pharmacist for recommendations.',\n",
       " 'To request a prescription refill, log in to your account online or call us.',\n",
       " 'Request it in-store or online.',\n",
       " 'Ask our pharmacist for recommendations.',\n",
       " 'To set up prescription reminders, sign up for our text alert service or use our mobile app.',\n",
       " 'Speak to our pharmacist for more details.',\n",
       " 'Ask our pharmacist for recommendations.',\n",
       " 'Our policy on out-of-stock medications is to notify you and provide alternatives or restock as soon as possible.',\n",
       " 'Ask our pharmacist for more information.',\n",
       " 'Ask our pharmacist for recommendations.',\n",
       " 'To apply for a pharmacy job, visit our website and check the careers section.',\n",
       " 'Ask our pharmacist for more details.',\n",
       " 'Ask our pharmacist for recommendations.',\n",
       " 'To manage your prescription online, log in to your account on our website.',\n",
       " 'Speak to our pharmacist for more information.',\n",
       " 'Ask our pharmacist for recommendations.',\n",
       " 'To contact our customer service, visit our website for contact details or call us directly.',\n",
       " 'Speak to our pharmacist for more information.',\n",
       " 'Ask our pharmacist for recommendations.',\n",
       " 'If your medication is recalled, we will notify you and provide alternatives or refunds.',\n",
       " 'Ask our pharmacist for more information.',\n",
       " 'Ask our pharmacist for recommendations']"
      ]
     },
     "execution_count": 45,
     "metadata": {},
     "output_type": "execute_result"
    }
   ],
   "source": [
    "required_answers\n"
   ]
  },
  {
   "cell_type": "code",
   "execution_count": 46,
   "metadata": {
    "colab": {
     "base_uri": "https://localhost:8080/",
     "height": 206
    },
    "id": "F9Z0AFpYUS6z",
    "outputId": "32dfb26e-053d-4b73-ace8-8eb166a28ab2"
   },
   "outputs": [
    {
     "data": {
      "text/html": [
       "<div>\n",
       "<style scoped>\n",
       "    .dataframe tbody tr th:only-of-type {\n",
       "        vertical-align: middle;\n",
       "    }\n",
       "\n",
       "    .dataframe tbody tr th {\n",
       "        vertical-align: top;\n",
       "    }\n",
       "\n",
       "    .dataframe thead th {\n",
       "        text-align: right;\n",
       "    }\n",
       "</style>\n",
       "<table border=\"1\" class=\"dataframe\">\n",
       "  <thead>\n",
       "    <tr style=\"text-align: right;\">\n",
       "      <th></th>\n",
       "      <th>Questions</th>\n",
       "      <th>Answers</th>\n",
       "    </tr>\n",
       "  </thead>\n",
       "  <tbody>\n",
       "    <tr>\n",
       "      <th>0</th>\n",
       "      <td>What are your pharmacy hours?</td>\n",
       "      <td>Our pharmacy hours are 9 AM to 9 PM from Mond...</td>\n",
       "    </tr>\n",
       "    <tr>\n",
       "      <th>1</th>\n",
       "      <td>Do you offer delivery services?</td>\n",
       "      <td>Yes, we offer delivery services. You can plac...</td>\n",
       "    </tr>\n",
       "    <tr>\n",
       "      <th>2</th>\n",
       "      <td>Can I refill my prescription online?</td>\n",
       "      <td>Yes, you can refill your prescription online ...</td>\n",
       "    </tr>\n",
       "    <tr>\n",
       "      <th>3</th>\n",
       "      <td>What insurance plans do you accept?</td>\n",
       "      <td>We accept a wide range of insurance plans. Pl...</td>\n",
       "    </tr>\n",
       "    <tr>\n",
       "      <th>4</th>\n",
       "      <td>Do you offer flu shots?</td>\n",
       "      <td>Yes, we offer flu shots. You can walk in or s...</td>\n",
       "    </tr>\n",
       "  </tbody>\n",
       "</table>\n",
       "</div>"
      ],
      "text/plain": [
       "                               Questions  \\\n",
       "0          What are your pharmacy hours?   \n",
       "1        Do you offer delivery services?   \n",
       "2   Can I refill my prescription online?   \n",
       "3    What insurance plans do you accept?   \n",
       "4                Do you offer flu shots?   \n",
       "\n",
       "                                             Answers  \n",
       "0   Our pharmacy hours are 9 AM to 9 PM from Mond...  \n",
       "1   Yes, we offer delivery services. You can plac...  \n",
       "2   Yes, you can refill your prescription online ...  \n",
       "3   We accept a wide range of insurance plans. Pl...  \n",
       "4   Yes, we offer flu shots. You can walk in or s...  "
      ]
     },
     "execution_count": 46,
     "metadata": {},
     "output_type": "execute_result"
    }
   ],
   "source": [
    "df.head()"
   ]
  },
  {
   "cell_type": "code",
   "execution_count": 47,
   "metadata": {
    "id": "NE5cm4xsUU5Z"
   },
   "outputs": [],
   "source": [
    "df['Questions']=required_questions\n",
    "df['Answers']=required_answers"
   ]
  },
  {
   "cell_type": "code",
   "execution_count": 48,
   "metadata": {
    "colab": {
     "base_uri": "https://localhost:8080/",
     "height": 206
    },
    "id": "7bAq-7_2ugnE",
    "outputId": "6e82a1e9-5a4c-4f7c-ad2b-4b002538c3f3"
   },
   "outputs": [
    {
     "data": {
      "text/html": [
       "<div>\n",
       "<style scoped>\n",
       "    .dataframe tbody tr th:only-of-type {\n",
       "        vertical-align: middle;\n",
       "    }\n",
       "\n",
       "    .dataframe tbody tr th {\n",
       "        vertical-align: top;\n",
       "    }\n",
       "\n",
       "    .dataframe thead th {\n",
       "        text-align: right;\n",
       "    }\n",
       "</style>\n",
       "<table border=\"1\" class=\"dataframe\">\n",
       "  <thead>\n",
       "    <tr style=\"text-align: right;\">\n",
       "      <th></th>\n",
       "      <th>Questions</th>\n",
       "      <th>Answers</th>\n",
       "    </tr>\n",
       "  </thead>\n",
       "  <tbody>\n",
       "    <tr>\n",
       "      <th>0</th>\n",
       "      <td>What are your pharmacy hours?</td>\n",
       "      <td>Our pharmacy hours are 9 AM to 9 PM from Monda...</td>\n",
       "    </tr>\n",
       "    <tr>\n",
       "      <th>1</th>\n",
       "      <td>Do you offer delivery services?</td>\n",
       "      <td>You can place an order online or call us.</td>\n",
       "    </tr>\n",
       "    <tr>\n",
       "      <th>2</th>\n",
       "      <td>Can I refill my prescription online?</td>\n",
       "      <td>Yes, you can refill your prescription online t...</td>\n",
       "    </tr>\n",
       "    <tr>\n",
       "      <th>3</th>\n",
       "      <td>What insurance plans do you accept?</td>\n",
       "      <td>Please check our website or call us for more d...</td>\n",
       "    </tr>\n",
       "    <tr>\n",
       "      <th>4</th>\n",
       "      <td>Do you offer flu shots?</td>\n",
       "      <td>You can walk in or schedule an appointment.</td>\n",
       "    </tr>\n",
       "  </tbody>\n",
       "</table>\n",
       "</div>"
      ],
      "text/plain": [
       "                              Questions  \\\n",
       "0         What are your pharmacy hours?   \n",
       "1       Do you offer delivery services?   \n",
       "2  Can I refill my prescription online?   \n",
       "3   What insurance plans do you accept?   \n",
       "4               Do you offer flu shots?   \n",
       "\n",
       "                                             Answers  \n",
       "0  Our pharmacy hours are 9 AM to 9 PM from Monda...  \n",
       "1          You can place an order online or call us.  \n",
       "2  Yes, you can refill your prescription online t...  \n",
       "3  Please check our website or call us for more d...  \n",
       "4        You can walk in or schedule an appointment.  "
      ]
     },
     "execution_count": 48,
     "metadata": {},
     "output_type": "execute_result"
    }
   ],
   "source": [
    "df.head()"
   ]
  },
  {
   "cell_type": "code",
   "execution_count": 49,
   "metadata": {
    "colab": {
     "base_uri": "https://localhost:8080/"
    },
    "id": "8hRpo-eGumn4",
    "outputId": "8d3c953a-2b20-4b8b-d4f4-5798003dbee2"
   },
   "outputs": [
    {
     "data": {
      "text/plain": [
       "0                         What are your pharmacy hours?\n",
       "1                       Do you offer delivery services?\n",
       "2                  Can I refill my prescription online?\n",
       "3                   What insurance plans do you accept?\n",
       "4                               Do you offer flu shots?\n",
       "                            ...                        \n",
       "95         Can I get a prescription for acne treatment?\n",
       "96                  Do you offer heart health products?\n",
       "97       What should I do if my medication is recalled?\n",
       "98    Can I get a prescription for anti-inflammatory...\n",
       "99                    Do you offer wound care products?\n",
       "Name: Questions, Length: 100, dtype: object"
      ]
     },
     "execution_count": 49,
     "metadata": {},
     "output_type": "execute_result"
    }
   ],
   "source": [
    "df['Questions']"
   ]
  },
  {
   "cell_type": "code",
   "execution_count": 50,
   "metadata": {
    "id": "7KPq3u2tvNPw"
   },
   "outputs": [],
   "source": [
    "import spacy\n",
    "\n",
    "# Load SpaCy's English model\n",
    "nlp = spacy.load(\"en_core_web_sm\")\n",
    "\n",
    "def preprocess_text_spacy(text):\n",
    "    doc = nlp(text.lower())\n",
    "    tokens = [token.text for token in doc if not token.is_punct and not token.is_stop]\n",
    "    return ' '.join(tokens)\n"
   ]
  },
  {
   "cell_type": "code",
   "execution_count": 51,
   "metadata": {
    "id": "p06LxbXyvOAZ"
   },
   "outputs": [],
   "source": [
    "\n",
    "df['processed_question'] = df['Questions'].apply(preprocess_text_spacy)\n",
    "\n"
   ]
  },
  {
   "cell_type": "code",
   "execution_count": 52,
   "metadata": {
    "id": "bTcVm-YmvTaX"
   },
   "outputs": [],
   "source": [
    "vectorizer = TfidfVectorizer()\n",
    "tfidf_matrix = vectorizer.fit_transform(df['processed_question'])"
   ]
  },
  {
   "cell_type": "code",
   "execution_count": 61,
   "metadata": {
    "id": "DON8i2RqvYrN"
   },
   "outputs": [],
   "source": [
    "def get_answer(user_question):\n",
    "    processed_user_question = preprocess_text_spacy(user_question)\n",
    "    user_tfidf = vectorizer.transform([processed_user_question])\n",
    "    cosine_similarities = cosine_similarity(user_tfidf, tfidf_matrix).flatten()\n",
    "    \n",
    "    print(type(cosine_similarities))\n",
    "    sim = True\n",
    "    print()\n",
    "    \n",
    "    if max(cosine_similarities) >= 0.75:\n",
    "        most_similar_index = cosine_similarities.argmax()\n",
    "        print(most_similar_index)\n",
    "        data = {\n",
    "            'answer': df.iloc[most_similar_index]['Answers'],\n",
    "            'question': df.iloc[most_similar_index]['Questions'],\n",
    "            'sim': sim\n",
    "        }\n",
    "    else:\n",
    "        sim = False\n",
    "        most_similar_index = cosine_similarities.argmax()\n",
    "        print(most_similar_index)\n",
    "        data = {\n",
    "            'question': df.iloc[most_similar_index]['Questions'],\n",
    "            'Text': 'You can try another question like this',\n",
    "            'sim': sim\n",
    "        }\n",
    "    return data"
   ]
  },
  {
   "cell_type": "code",
   "execution_count": 62,
   "metadata": {
    "colab": {
     "background_save": true,
     "base_uri": "https://localhost:8080/"
    },
    "id": "cAMCgWEVvdss",
    "outputId": "46b25d1d-c153-4f6c-bd1b-1a8a67a0ab3b"
   },
   "outputs": [
    {
     "name": "stdin",
     "output_type": "stream",
     "text": [
      "\n",
      "Ask me a question (or type 'exit' to quit):  insurace plan\n"
     ]
    },
    {
     "name": "stdout",
     "output_type": "stream",
     "text": [
      "<class 'numpy.ndarray'>\n",
      "\n",
      "0\n",
      "\n",
      "============================================================\n",
      "No exact match found.\n",
      "Try asking like this:\n",
      "Example: What are your pharmacy hours?\n",
      "============================================================\n",
      "\n"
     ]
    },
    {
     "name": "stdin",
     "output_type": "stream",
     "text": [
      "\n",
      "Ask me a question (or type 'exit' to quit):  insurance plan\n"
     ]
    },
    {
     "name": "stdout",
     "output_type": "stream",
     "text": [
      "<class 'numpy.ndarray'>\n",
      "\n",
      "3\n",
      "\n",
      "============================================================\n",
      "No exact match found.\n",
      "Try asking like this:\n",
      "Example: What insurance plans do you accept?\n",
      "============================================================\n",
      "\n"
     ]
    },
    {
     "name": "stdin",
     "output_type": "stream",
     "text": [
      "\n",
      "Ask me a question (or type 'exit' to quit):   insurance plans\n"
     ]
    },
    {
     "name": "stdout",
     "output_type": "stream",
     "text": [
      "<class 'numpy.ndarray'>\n",
      "\n",
      "3\n",
      "\n",
      "============================================================\n",
      "Matched Question: What insurance plans do you accept?\n",
      "Answer: Please check our website or call us for more details.\n",
      "============================================================\n",
      "\n"
     ]
    },
    {
     "name": "stdin",
     "output_type": "stream",
     "text": [
      "\n",
      "Ask me a question (or type 'exit' to quit):  exit\n"
     ]
    },
    {
     "name": "stdout",
     "output_type": "stream",
     "text": [
      "Thank you! Have a great day!\n"
     ]
    }
   ],
   "source": [
    "while True:\n",
    "    user_question = input(\"\\nAsk me a question (or type 'exit' to quit): \")\n",
    "    if user_question.lower() == 'exit':\n",
    "        print(\"Thank you! Have a great day!\")\n",
    "        break\n",
    "\n",
    "    data = get_answer(user_question)\n",
    "\n",
    "    print(\"\\n\" + \"=\" * 60)\n",
    "    if data['sim']:\n",
    "        print(f\"Matched Question: {data['question']}\")\n",
    "        print(f\"Answer: {data['answer']}\")\n",
    "    else:\n",
    "        print(\"No exact match found.\")\n",
    "        print(\"Try asking like this:\")\n",
    "        print(f\"Example: {data['question']}\")\n",
    "    print(\"=\" * 60 + \"\\n\")\n"
   ]
  },
  {
   "cell_type": "code",
   "execution_count": null,
   "metadata": {
    "id": "brSRBvesvl7_"
   },
   "outputs": [],
   "source": []
  },
  {
   "cell_type": "code",
   "execution_count": null,
   "metadata": {
    "id": "DKrvO6vexAin"
   },
   "outputs": [],
   "source": []
  },
  {
   "cell_type": "code",
   "execution_count": null,
   "metadata": {
    "id": "LTZfQW-Wvg77"
   },
   "outputs": [],
   "source": []
  }
 ],
 "metadata": {
  "colab": {
   "provenance": []
  },
  "kernelspec": {
   "display_name": "Python (tf_env)",
   "language": "python",
   "name": "tf_env"
  },
  "language_info": {
   "codemirror_mode": {
    "name": "ipython",
    "version": 3
   },
   "file_extension": ".py",
   "mimetype": "text/x-python",
   "name": "python",
   "nbconvert_exporter": "python",
   "pygments_lexer": "ipython3",
   "version": "3.10.8"
  }
 },
 "nbformat": 4,
 "nbformat_minor": 4
}
